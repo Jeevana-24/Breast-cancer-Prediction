{
  "nbformat": 4,
  "nbformat_minor": 0,
  "metadata": {
    "colab": {
      "provenance": []
    },
    "kernelspec": {
      "name": "python3",
      "display_name": "Python 3"
    },
    "language_info": {
      "name": "python"
    }
  },
  "cells": [
    {
      "cell_type": "markdown",
      "source": [
        "Artificial dataset"
      ],
      "metadata": {
        "id": "hul7YLAsysCT"
      }
    },
    {
      "cell_type": "code",
      "execution_count": null,
      "metadata": {
        "id": "P0Y9twHKG1se"
      },
      "outputs": [],
      "source": [
        "import pandas as pd\n",
        "import numpy as np\n",
        "import matplotlib.pyplot as plt\n",
        "import matplotlib.pyplot as plt2\n",
        "data1 = pd.read_csv(\"/content/implementation_correctness_dataset.csv\")\n",
        "X = data1[['Feature 1', 'Feature 2']].values\n",
        "'''normalized_data = (X - np.mean(X, axis=0)) / np.std(X, axis=0)\n",
        "print(normalized_data)'''\n",
        "y=data1['Class/Cluster']"
      ]
    },
    {
      "cell_type": "markdown",
      "source": [
        "Real dataset"
      ],
      "metadata": {
        "id": "TA3QGdiFyxDu"
      }
    },
    {
      "cell_type": "code",
      "source": [
        "import numpy as np\n",
        "import pandas as pd\n",
        "import matplotlib.pyplot as plt\n",
        "from sklearn import preprocessing\n",
        "from sklearn.decomposition import PCA\n",
        "from sklearn.preprocessing import StandardScaler\n",
        "from sklearn.manifold import TSNE\n",
        "\n",
        "a=pd.read_csv(\"/content/data (1).csv\")\n",
        "data = a.drop(columns=['id','Unnamed: 32'],axis=1)\n",
        "data['diagnosis'] = data['diagnosis'].map({'M':1,'B':0})\n",
        "data_index = pd.DataFrame(preprocessing.scale(data.iloc[:,1:30]))\n",
        "data_index.columns = list(data.iloc[:,1:30].columns)\n",
        "data_index['diagnosis'] = data['diagnosis']\n",
        "data_use = data_index.drop('diagnosis',axis=1)\n",
        "B=np.array(data_use)\n",
        "\n",
        "tsne = TSNE(verbose=1, perplexity=40, n_iter= 4000)\n",
        "B = tsne.fit_transform(B)\n",
        "B = StandardScaler().fit_transform(B)\n",
        "# apply PCA to reduce dimensionality to k components\n",
        "k = 2\n",
        "pca = PCA(n_components=k)\n",
        "B= pca.fit_transform(B)"
      ],
      "metadata": {
        "colab": {
          "base_uri": "https://localhost:8080/"
        },
        "id": "aY4Dlg9qs4va",
        "outputId": "07d3f339-39e5-4888-b60f-202dc5a3cb56"
      },
      "execution_count": null,
      "outputs": [
        {
          "output_type": "stream",
          "name": "stdout",
          "text": [
            "[t-SNE] Computing 121 nearest neighbors...\n",
            "[t-SNE] Indexed 569 samples in 0.001s...\n",
            "[t-SNE] Computed neighbors for 569 samples in 0.080s...\n",
            "[t-SNE] Computed conditional probabilities for sample 569 / 569\n",
            "[t-SNE] Mean sigma: 1.494308\n",
            "[t-SNE] KL divergence after 250 iterations with early exaggeration: 57.113853\n",
            "[t-SNE] KL divergence after 1800 iterations: 0.847138\n"
          ]
        }
      ]
    },
    {
      "cell_type": "code",
      "source": [
        "# We create a function to calculate euclidean distance between all the points and store them in an array called distances.\n",
        "# V = sqrt((x2 - x1)^2 + (y2 - y1)^2) where (x1, y1) and (x2, y2) are the coordinates of the two points.\n",
        "def euclidean_distance(distances, X, n):\n",
        "    for i in range(n):\n",
        "        for j in range(n):\n",
        "            v=np.sum((X[i]-X[j])**2)\n",
        "            distances[i,j] = np.sqrt(v)\n",
        "    return distances"
      ],
      "metadata": {
        "id": "9BDf_FQ4JQ98"
      },
      "execution_count": null,
      "outputs": []
    },
    {
      "cell_type": "code",
      "source": [
        "# We write this function to create an adjacency matrix, of size n*n.\n",
        "def create_adj_matrix(k_indices,n,AM):\n",
        "    for i in range(n):\n",
        "        AM[i, k_indices[i]] = 1\n",
        "        AM[k_indices[i], i] = 1\n",
        "    return AM"
      ],
      "metadata": {
        "id": "CNoOk3svMy2Y"
      },
      "execution_count": null,
      "outputs": []
    },
    {
      "cell_type": "markdown",
      "source": [
        "Implementation Correctness-Part 1 (adjacency matrix)"
      ],
      "metadata": {
        "id": "snYH26zNzC2F"
      }
    },
    {
      "cell_type": "code",
      "source": [
        "# Here we write a function knearneightbours which creates a matrix of size n*n and computes the euclidean distances\n",
        "# and sorts them accordingly and stores the indices of the k nearest neighbours in an array and with\n",
        "# this array we construct an adjacency matrix .\n",
        "\n",
        "\n",
        "import numpy as np\n",
        "def knearneighbors(X, k):\n",
        "    n = X.shape[0]\n",
        "    #A matrix with zeroes is created with size n\n",
        "    zero_matrix = np.zeros((n, n))\n",
        "    #  euclidean distance function is called to compute distance\n",
        "    distances=euclidean_distance(np.copy(zero_matrix),X,n)\n",
        "    #Sort the distances to obtain the indices of the k closest neighbors.\n",
        "    sorted_indices = np.argsort(distances, axis=1)\n",
        "    k_indices = sorted_indices[:, 1:k+1]\n",
        "    # Construct the adjacency matrix-function to create adjacency matrix is created\n",
        "    AM =create_adj_matrix(k_indices,n,np.copy(zero_matrix))\n",
        "    return AM\n",
        "#adjacency matrix for artificial dataset\n",
        "Adj_Matrix= knearneighbors(X, 2)\n",
        "print(Adj_Matrix)\n",
        "#adjacency matrix for real dataset\n",
        "Adj_Matrix1=knearneighbors(B, 2)\n",
        "#print(Adj_Matrix1)\n"
      ],
      "metadata": {
        "colab": {
          "base_uri": "https://localhost:8080/"
        },
        "id": "raCHUwP7H8Vd",
        "outputId": "040da3c1-b03a-4a7c-95f1-1c79a134b316"
      },
      "execution_count": null,
      "outputs": [
        {
          "output_type": "stream",
          "name": "stdout",
          "text": [
            "[[0. 1. 0. 0. 0. 0. 0. 0. 0. 0. 1. 0. 0. 0. 0. 0. 0.]\n",
            " [1. 0. 1. 0. 0. 0. 0. 0. 0. 0. 0. 0. 0. 0. 0. 0. 0.]\n",
            " [0. 1. 0. 1. 0. 0. 0. 0. 0. 0. 0. 0. 0. 0. 0. 0. 0.]\n",
            " [0. 0. 1. 0. 1. 0. 0. 0. 0. 0. 0. 0. 0. 0. 0. 0. 0.]\n",
            " [0. 0. 0. 1. 0. 1. 0. 0. 0. 0. 0. 0. 0. 0. 0. 0. 0.]\n",
            " [0. 0. 0. 0. 1. 0. 1. 0. 0. 0. 0. 0. 0. 0. 0. 0. 0.]\n",
            " [0. 0. 0. 0. 0. 1. 0. 1. 0. 0. 0. 0. 0. 0. 0. 0. 0.]\n",
            " [0. 0. 0. 0. 0. 0. 1. 0. 1. 1. 0. 0. 0. 0. 0. 0. 0.]\n",
            " [0. 0. 0. 0. 0. 0. 0. 1. 0. 1. 0. 0. 0. 0. 0. 0. 0.]\n",
            " [0. 0. 0. 0. 0. 0. 0. 1. 1. 0. 0. 0. 0. 0. 0. 0. 0.]\n",
            " [1. 0. 0. 0. 0. 0. 0. 0. 0. 0. 0. 1. 0. 0. 0. 0. 0.]\n",
            " [0. 0. 0. 0. 0. 0. 0. 0. 0. 0. 1. 0. 1. 1. 0. 0. 0.]\n",
            " [0. 0. 0. 0. 0. 0. 0. 0. 0. 0. 0. 1. 0. 1. 0. 0. 0.]\n",
            " [0. 0. 0. 0. 0. 0. 0. 0. 0. 0. 0. 1. 1. 0. 0. 0. 0.]\n",
            " [0. 0. 0. 0. 0. 0. 0. 0. 0. 0. 0. 0. 0. 0. 0. 1. 1.]\n",
            " [0. 0. 0. 0. 0. 0. 0. 0. 0. 0. 0. 0. 0. 0. 1. 0. 1.]\n",
            " [0. 0. 0. 0. 0. 0. 0. 0. 0. 0. 0. 0. 0. 0. 1. 1. 0.]]\n"
          ]
        }
      ]
    },
    {
      "cell_type": "code",
      "source": [
        "#It is created by summing the values in each row and putting them in a diagnol\n",
        "def createdegreematrix(Adj_Matrix):\n",
        "    degreematrix=np.diag(np.sum(Adj_Matrix,axis=1))\n",
        "    return degreematrix\n"
      ],
      "metadata": {
        "id": "MuLBdnWiMrs8"
      },
      "execution_count": null,
      "outputs": []
    },
    {
      "cell_type": "code",
      "source": [
        "#L = D - A\n",
        "def createlaplacianmatrix(degreematrix,Adj_Matrix):\n",
        "    laplacianmatrix=degreematrix-Adj_Matrix\n",
        "    return laplacianmatrix"
      ],
      "metadata": {
        "id": "_1VGXN2ajUWJ"
      },
      "execution_count": null,
      "outputs": []
    },
    {
      "cell_type": "code",
      "source": [
        "#calculates the square root of its inverse of degree matrix\n",
        "def inversesquare(degreematrix):\n",
        "    sqri=np.linalg.inv(np.sqrt(degreematrix))\n",
        "    return sqri"
      ],
      "metadata": {
        "id": "2Vk5Qps6kQz1"
      },
      "execution_count": null,
      "outputs": []
    },
    {
      "cell_type": "code",
      "source": [
        "def normalizeeigen(matrix):\n",
        "    vals, vecs = np.linalg.eigh(matrix)\n",
        "    #k=2\n",
        "    #ab=vals.argsort()[:2]\n",
        "    em = vecs[:,:2]\n",
        "\n",
        "    # Normalize the eigenvectors\n",
        "    #em = vecs / np.linalg.norm(vecs, axis=0)\n",
        "\n",
        "    # Print the spectral embeddings\n",
        "    return em"
      ],
      "metadata": {
        "id": "qk_vaRiNm1q3"
      },
      "execution_count": null,
      "outputs": []
    },
    {
      "cell_type": "code",
      "source": [
        "#functions to get eigen vectors(spectral embeddings) for artificial dataset\n",
        "degreematrix=createdegreematrix(Adj_Matrix)\n",
        "laplacianmatrix=createlaplacianmatrix(degreematrix,Adj_Matrix)\n",
        "sqri=inversesquare(degreematrix)\n",
        "normalizedlaplacian=sqri@laplacianmatrix@sqri\n",
        "em=normalizeeigen(normalizedlaplacian)\n",
        "\n",
        "#functions to get eigen vectors(spectral embeddings) for Real dataset\n",
        "degreematrix1=createdegreematrix(Adj_Matrix1)\n",
        "laplacianmatrix1=createlaplacianmatrix(degreematrix1,Adj_Matrix1)\n",
        "sqri1=inversesquare(degreematrix1)\n",
        "normalizedlaplacian1=sqri1@laplacianmatrix1@sqri1\n",
        "em1=normalizeeigen(normalizedlaplacian1)\n"
      ],
      "metadata": {
        "id": "Kg6H_HELi6eJ"
      },
      "execution_count": null,
      "outputs": []
    },
    {
      "cell_type": "markdown",
      "source": [
        "Implementation Correctness-Part 2 (Spectral Embeddings)"
      ],
      "metadata": {
        "id": "vlemIXDm5W-S"
      }
    },
    {
      "cell_type": "code",
      "source": [
        "def calculate(sigma, distance_pairs,X):\n",
        "    W=np.exp(-distance_pairs/(2 * sigma**2))\n",
        "    D=np.diag(np.sum(W,axis=1))\n",
        "    L=D-W\n",
        "    eigvals,eigvecs =np.linalg.eigh(L)\n",
        "    idx=eigvals.argsort()[:2]\n",
        "    z=eigvecs[:, idx]\n",
        "    return z\n"
      ],
      "metadata": {
        "id": "D2UDBCDz8cA8"
      },
      "execution_count": null,
      "outputs": []
    },
    {
      "cell_type": "code",
      "source": [
        "def eigenvector(X):\n",
        "    sigma=1\n",
        "    distance_pairs=np.square(np.linalg.norm(X[:,np.newaxis]-X,axis=2))\n",
        "    return calculate(sigma, distance_pairs,X)\n",
        "z=eigenvector(X)\n",
        "print(z)"
      ],
      "metadata": {
        "colab": {
          "base_uri": "https://localhost:8080/"
        },
        "id": "8xC6Huta3B6t",
        "outputId": "da5c8b8a-0f57-407f-e71f-02345b896a64"
      },
      "execution_count": null,
      "outputs": [
        {
          "output_type": "stream",
          "name": "stdout",
          "text": [
            "[[-0.24253563  0.19095478]\n",
            " [-0.24253563  0.15620674]\n",
            " [-0.24253563  0.09361891]\n",
            " [-0.24253563  0.02598101]\n",
            " [-0.24253563 -0.05864059]\n",
            " [-0.24253563 -0.16618812]\n",
            " [-0.24253563 -0.27010071]\n",
            " [-0.24253563 -0.357609  ]\n",
            " [-0.24253563 -0.42152545]\n",
            " [-0.24253563 -0.46120255]\n",
            " [-0.24253563  0.2125787 ]\n",
            " [-0.24253563  0.24965678]\n",
            " [-0.24253563  0.28919668]\n",
            " [-0.24253563  0.3216502 ]\n",
            " [-0.24253563  0.05891701]\n",
            " [-0.24253563  0.0661269 ]\n",
            " [-0.24253563  0.07037869]]\n"
          ]
        }
      ]
    },
    {
      "cell_type": "markdown",
      "source": [
        "Part-4-Implementation correctness(plot between objective functions and iteration)"
      ],
      "metadata": {
        "id": "Sw--2OJO0U_w"
      }
    },
    {
      "cell_type": "code",
      "source": [
        "import numpy as np\n",
        "import matplotlib.pyplot as plt\n",
        "\n",
        "def kmeans(X, n_clusters, max_iter=10, init='random'):\n",
        "    # Initialize centroids\n",
        "    if init == 'random':\n",
        "        centroids = X[np.random.choice(X.shape[0], size=n_clusters, replace=False), :]\n",
        "    else:\n",
        "        centroids = init\n",
        "\n",
        "    for i in range(max_iter):\n",
        "        # Compute distances to centroids\n",
        "        distances = np.sqrt(((X - centroids[:, np.newaxis])**2).sum(axis=2))\n",
        "\n",
        "        # Assign each point to closest centroid\n",
        "        labels = np.argmin(distances, axis=0)\n",
        "\n",
        "        # Update centroids\n",
        "        new_centroids = np.vstack([X[labels==j,:].mean(axis=0) for j in range(n_clusters)])\n",
        "        if np.allclose(new_centroids, centroids):\n",
        "            break\n",
        "        centroids = new_centroids\n",
        "    # Compute and return objective function\n",
        "    obj_func = ((X - centroids[labels,:])**2).sum()\n",
        "    return obj_func, labels, centroids\n",
        "obj_func = []\n",
        "obj_func1 = []\n",
        "for i in range(10):\n",
        "    obj, labels, centroids = kmeans(z, 2,10)\n",
        "    obj1, labels1, centroids1 = kmeans(em1, 2,10)\n",
        "    obj2 , labels2, centroids2= kmeans(em, 2 ,10)\n",
        "    obj_func.append(obj1)\n",
        "    obj_func1.append(obj2)\n",
        "\n",
        "#print(labels)\n",
        "plt.plot(np.arange(2*10) + 1, np.repeat(obj_func, 2), '-o')\n",
        "plt.title('objective function vs Iterations of K-Means')\n",
        "plt.xlabel('Iteration')\n",
        "plt.ylabel('Objective Function')\n",
        "plt.show()"
      ],
      "metadata": {
        "colab": {
          "base_uri": "https://localhost:8080/",
          "height": 295
        },
        "id": "O5Qg_GIgtirt",
        "outputId": "c1eb42f3-e6ac-4835-ecb2-64443d311ffc"
      },
      "execution_count": null,
      "outputs": [
        {
          "output_type": "display_data",
          "data": {
            "text/plain": [
              "<Figure size 432x288 with 1 Axes>"
            ],
            "image/png": "[encoded data removed]"
          },
          "metadata": {
            "needs_background": "light"
          }
        }
      ]
    },
    {
      "cell_type": "markdown",
      "source": [
        "Part-4-Implementation correctness(Scatterplot for speactral embeddings based on the cluster that k-means)"
      ],
      "metadata": {
        "id": "MwVd0ZT547Pz"
      }
    },
    {
      "cell_type": "code",
      "source": [
        "plt.scatter(z[:, 0], z[:, 1], c=labels, cmap='viridis')\n",
        "\n",
        "# Plot centroids\n",
        "plt.scatter(centroids[:, 0], centroids[:, 1], marker='x', s=100, c='black')\n",
        "\n",
        "plt.xlabel('Spectral Embedding 1')\n",
        "plt.ylabel('Spectral Embedding 2')\n",
        "plt.title('Spectral Embeddings and K-Means Clustering')\n",
        "\n",
        "plt.show()\n"
      ],
      "metadata": {
        "colab": {
          "base_uri": "https://localhost:8080/",
          "height": 295
        },
        "id": "HhhmEKK64SJv",
        "outputId": "5c8b7088-b71a-4e22-bbc5-aa0e9a9641cf"
      },
      "execution_count": null,
      "outputs": [
        {
          "output_type": "display_data",
          "data": {
            "text/plain": [
              "<Figure size 432x288 with 1 Axes>"
            ],
            "image/png": "[encoded data removed]"
          },
          "metadata": {
            "needs_background": "light"
          }
        }
      ]
    },
    {
      "cell_type": "code",
      "source": [
        "from sklearn.metrics import silhouette_score\n",
        "from sklearn.metrics import normalized_mutual_info_score\n",
        "#silhoutte score for real dataset\n",
        "silhouette_avg = silhouette_score(B,labels1)\n",
        "print(\"Silh for real data:\",silhouette_avg)\n",
        "#silhoutte score for artificial dataset\n",
        "silhouette_avg1 = silhouette_score(X,labels)\n",
        "print(\"Silh for artificial data:\",silhouette_avg1)\n",
        "#nmi score for real dataset\n",
        "nmi_score = normalized_mutual_info_score(y,labels)\n",
        "print(\"NMI for real data:\",nmi_score)\n",
        "#nmi score for artificial dataset\n",
        "nmi_score1 = normalized_mutual_info_score(data['diagnosis'],labels1)\n",
        "print(\"NMI for artificial data\",nmi_score1)"
      ],
      "metadata": {
        "colab": {
          "base_uri": "https://localhost:8080/"
        },
        "id": "9H7tqyJlKHYE",
        "outputId": "4c1118d4-581a-4666-92c0-777ad999ca4f"
      },
      "execution_count": null,
      "outputs": [
        {
          "output_type": "stream",
          "name": "stdout",
          "text": [
            "Silh for real data: 0.12883154\n",
            "Silh for artificial data: 0.5300117189896503\n",
            "NMI for real data: 0.1288617483267018\n",
            "NMI for artificial data 0.003869495440379112\n"
          ]
        }
      ]
    },
    {
      "cell_type": "code",
      "source": [
        "ss=[]\n",
        "ns=[]\n",
        "for i in range(0,10):\n",
        "  np.random.shuffle(B)\n",
        "  s_s=silhouette_score(B,labels1)\n",
        "  ss.append(s_s)\n",
        "  n_s=normalized_mutual_info_score(data['diagnosis'],labels1)\n",
        "  ns.append(n_s)\n",
        "print(ss)\n",
        "print(ns)\n"
      ],
      "metadata": {
        "colab": {
          "base_uri": "https://localhost:8080/"
        },
        "id": "-lPVo45Wx4Ow",
        "outputId": "bc15aabf-caf7-4bc5-e86c-e4017499ef0f"
      },
      "execution_count": null,
      "outputs": [
        {
          "output_type": "stream",
          "name": "stdout",
          "text": [
            "[-0.021898752, -0.021574255, -0.00511418, -0.012507279, 0.0013347259, -0.02223951, 0.009013113, -0.01820609, 0.0069090957, 0.013200471]\n",
            "[0.003869495440379112, 0.003869495440379112, 0.003869495440379112, 0.003869495440379112, 0.003869495440379112, 0.003869495440379112, 0.003869495440379112, 0.003869495440379112, 0.003869495440379112, 0.003869495440379112]\n"
          ]
        }
      ]
    },
    {
      "cell_type": "code",
      "source": [
        "plt.errorbar(x = list(range(0, 10)), y = ss, yerr = sum(ss)/len(ss)\n",
        "            , elinewidth = 2)\n",
        "print(f'silhouette scores std (std={np.std(ss):.2f})')\n",
        "plt.xlabel(\"No.of.Iterations\")\n",
        "plt.ylabel(\"silhoutte score\")\n",
        "plt.title(\"Error bar for silhoutte score\")"
      ],
      "metadata": {
        "colab": {
          "base_uri": "https://localhost:8080/",
          "height": 330
        },
        "id": "omDO4DIT6zpK",
        "outputId": "c961eb21-d0d1-4712-d876-be75961df75f"
      },
      "execution_count": null,
      "outputs": [
        {
          "output_type": "stream",
          "name": "stdout",
          "text": [
            "silhouette scores std (std=0.01)\n"
          ]
        },
        {
          "output_type": "execute_result",
          "data": {
            "text/plain": [
              "Text(0.5, 1.0, 'Error bar for silhoutte score')"
            ]
          },
          "metadata": {},
          "execution_count": 17
        },
        {
          "output_type": "display_data",
          "data": {
            "text/plain": [
              "<Figure size 432x288 with 1 Axes>"
            ],
            "image/png": "[encoded data removed]"
          },
          "metadata": {
            "needs_background": "light"
          }
        }
      ]
    },
    {
      "cell_type": "code",
      "source": [
        "plt.errorbar(x =  list(range(0, 10)), y = ns, yerr = sum(ns)/len(ns)\n",
        "            , elinewidth = 2)\n",
        "print(f'NMI scores std (std={np.std(ns):.2f})')\n",
        "plt.xlabel(\"No.of.Iterations\")\n",
        "plt.ylabel(\"NMI score\")\n",
        "plt.title(\"Error bar for NMI score\")"
      ],
      "metadata": {
        "colab": {
          "base_uri": "https://localhost:8080/",
          "height": 330
        },
        "id": "sPXjh6lx7YIW",
        "outputId": "785d132c-8c1d-45e6-e472-1feae701ffd5"
      },
      "execution_count": null,
      "outputs": [
        {
          "output_type": "stream",
          "name": "stdout",
          "text": [
            "NMI scores std (std=0.00)\n"
          ]
        },
        {
          "output_type": "execute_result",
          "data": {
            "text/plain": [
              "Text(0.5, 1.0, 'Error bar for NMI score')"
            ]
          },
          "metadata": {},
          "execution_count": 18
        },
        {
          "output_type": "display_data",
          "data": {
            "text/plain": [
              "<Figure size 432x288 with 1 Axes>"
            ],
            "image/png": "[encoded data removed]"
          },
          "metadata": {
            "needs_background": "light"
          }
        }
      ]
    }
  ]
}